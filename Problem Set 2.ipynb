{
 "cells": [
  {
   "cell_type": "markdown",
   "id": "73ac2166",
   "metadata": {},
   "source": [
    "# Question1"
   ]
  },
  {
   "cell_type": "code",
   "execution_count": null,
   "id": "5577b3b1",
   "metadata": {},
   "outputs": [],
   "source": [
    "a = 6\n",
    "\n",
    "#After three calls to the b() function, the value of global variable a will be 6. \n",
    "#This is because each call to b() increases the current value of a by 2 by calling c(a). \n",
    "#Initially a is 0, becomes 2 after the first call, becomes 4 after the second call, and finally becomes 6 after the third call."
   ]
  },
  {
   "cell_type": "markdown",
   "id": "241c6ba3",
   "metadata": {},
   "source": [
    "# Question2\n"
   ]
  },
  {
   "cell_type": "code",
   "execution_count": 4,
   "id": "a1e74aed",
   "metadata": {},
   "outputs": [
    {
     "name": "stdout",
     "output_type": "stream",
     "text": [
      "123\n",
      "File Nothisfile.txt not found.\n"
     ]
    }
   ],
   "source": [
    "def fileLength(filename):\n",
    "    try:\n",
    "        with open(filename, 'r') as infile:\n",
    "            return len(infile.read())\n",
    "    except FileNotFoundError:\n",
    "        return f\"File {filename} not found.\"\n",
    "\n",
    "\n",
    "print(fileLength('Filelength.txt'))  \n",
    "print(fileLength('Nothisfile.txt'))    \n"
   ]
  },
  {
   "cell_type": "markdown",
   "id": "9e1a74b8",
   "metadata": {},
   "source": [
    "# Question3"
   ]
  },
  {
   "cell_type": "code",
   "execution_count": 14,
   "id": "3a58f0b4",
   "metadata": {},
   "outputs": [
    {
     "name": "stdout",
     "output_type": "stream",
     "text": [
      "['doll', 'firetruck', 'kitten']\n",
      "I am a Kangaroo located at coordinates (3,0)\n",
      "['doll', 'firetruck', 'kitten']\n"
     ]
    }
   ],
   "source": [
    "class Marsupial:\n",
    "    def __init__(self):\n",
    "        self.pouch_contents_list = []  \n",
    "\n",
    "    def put_in_pouch(self, item):\n",
    "        self.pouch_contents_list.append(item)\n",
    "\n",
    "    def pouch_contents(self):\n",
    "        return self.pouch_contents_list\n",
    "\n",
    "\n",
    "class Kangaroo(Marsupial):\n",
    "    def __init__(self, x0, y0):\n",
    "        super().__init__()\n",
    "        self.x = x0\n",
    "        self.y = y0\n",
    "\n",
    "    def jump(self, dx, dy):\n",
    "        self.x += dx\n",
    "        self.y += dy\n",
    "\n",
    "    def __str__(self):\n",
    "        return f\"I am a Kangaroo located at coordinates ({self.x},{self.y})\"\n",
    "\n",
    "\n",
    "\n",
    "marsupial_instance = Marsupial()\n",
    "marsupial_instance.put_in_pouch('doll')\n",
    "marsupial_instance.put_in_pouch('firetruck')\n",
    "marsupial_instance.put_in_pouch('kitten')\n",
    "\n",
    "\n",
    "kangaroo_instance = Kangaroo(0, 0)\n",
    "kangaroo_instance.put_in_pouch('doll')\n",
    "kangaroo_instance.put_in_pouch('firetruck')\n",
    "kangaroo_instance.put_in_pouch('kitten')\n",
    "kangaroo_instance.jump(1, 0)\n",
    "kangaroo_instance.jump(1, 0)\n",
    "kangaroo_instance.jump(1, 0)\n",
    "\n",
    "print(marsupial_instance.pouch_contents())\n",
    "print(kangaroo_instance)\n",
    "print(kangaroo_instance.pouch_contents())\n",
    "\n"
   ]
  },
  {
   "cell_type": "markdown",
   "id": "2015c962",
   "metadata": {},
   "source": [
    "# Qusetion4"
   ]
  },
  {
   "cell_type": "code",
   "execution_count": 15,
   "id": "4fb757ad",
   "metadata": {},
   "outputs": [
    {
     "name": "stdout",
     "output_type": "stream",
     "text": [
      "1\n",
      "10\n",
      "5\n",
      "16\n",
      "8\n",
      "4\n",
      "2\n",
      "1\n"
     ]
    }
   ],
   "source": [
    "def collatz(x):\n",
    "    if x == 1:\n",
    "        print(x)\n",
    "    else:\n",
    "        print(x)\n",
    "        if x % 2 == 0:\n",
    "            collatz(x // 2)\n",
    "        else:\n",
    "            collatz(3 * x + 1)\n",
    "\n",
    "\n",
    "collatz(1)  \n",
    "collatz(10) \n"
   ]
  },
  {
   "cell_type": "markdown",
   "id": "39ba497b",
   "metadata": {},
   "source": [
    "# Question5"
   ]
  },
  {
   "cell_type": "code",
   "execution_count": 18,
   "id": "72a1433f",
   "metadata": {},
   "outputs": [
    {
     "name": "stdout",
     "output_type": "stream",
     "text": [
      "01111001"
     ]
    }
   ],
   "source": [
    "def binary(n):\n",
    "    if n == 0 or n == 1:\n",
    "        print(n, end='')\n",
    "    else:\n",
    "        binary(n // 2)\n",
    "        print(n % 2, end='')\n",
    "\n",
    "# Testing the function\n",
    "binary(0)  \n",
    "binary(1)  \n",
    "binary(3)\n",
    "binary(9)  \n"
   ]
  },
  {
   "cell_type": "markdown",
   "id": "82659bc4",
   "metadata": {},
   "source": [
    "# Question6"
   ]
  },
  {
   "cell_type": "code",
   "execution_count": 20,
   "id": "8ba6b12d",
   "metadata": {},
   "outputs": [
    {
     "name": "stdout",
     "output_type": "stream",
     "text": [
      "W3C Mission\n",
      " Principles\n"
     ]
    }
   ],
   "source": [
    "from html.parser import HTMLParser\n",
    "\n",
    "class HeadingParser(HTMLParser):\n",
    "    def __init__(self):\n",
    "        super().__init__()\n",
    "        self.current_heading_level = 0\n",
    "\n",
    "    def handle_starttag(self, tag, attrs):\n",
    "        if tag in ('h1', 'h2', 'h3', 'h4', 'h5', 'h6'):\n",
    "            self.current_heading_level = int(tag[1])\n",
    "\n",
    "    def handle_endtag(self, tag):\n",
    "        if tag == f'h{self.current_heading_level}':\n",
    "            self.current_heading_level = 0\n",
    "\n",
    "    def handle_data(self, data):\n",
    "        if self.current_heading_level > 0:\n",
    "            indentation = ' ' * (self.current_heading_level - 1)\n",
    "            print(f\"{indentation}{data}\")\n",
    "\n",
    "\n",
    "with open('w3c.html', 'r') as infile:\n",
    "    content = infile.read()\n",
    "\n",
    "hp = HeadingParser()\n",
    "hp.feed(content)\n"
   ]
  },
  {
   "cell_type": "markdown",
   "id": "6293ac92",
   "metadata": {},
   "source": [
    "# Question7"
   ]
  },
  {
   "cell_type": "code",
   "execution_count": null,
   "id": "50deddd6",
   "metadata": {},
   "outputs": [],
   "source": [
    "import requests\n",
    "import re\n",
    "from urllib.parse import urljoin, urlparse\n",
    "\n",
    "def webdir(url, depth, indent):\n",
    "    print(\" \" * indent + url)\n",
    "\n",
    "    if depth == 0:\n",
    "        return\n",
    "    \n",
    "    try:\n",
    "        response = requests.get(url)\n",
    "        if response.status_code != 200:\n",
    "            return\n",
    "    except requests.RequestException:\n",
    "        return\n",
    "\n",
    "    html = response.text\n",
    "\n",
    "    links = re.findall(r'<a\\s+(?:[^>]*?\\s+)?href=[\"\\'](.*?)[\"\\']', html)\n",
    "    for link in links:\n",
    "        full_link = urljoin(url, link)\n",
    "        parsed_link = urlparse(full_link)\n",
    "        if not parsed_link.scheme:\n",
    "            continue\n",
    "        if not parsed_link.netloc:\n",
    "            continue\n",
    "        \n",
    "        webdir(full_link, depth - 1, indent + 4)\n",
    "\n",
    "\n",
    "webdir('https://www.torontopubliclibrary.ca', 2, 0)\n"
   ]
  },
  {
   "cell_type": "markdown",
   "id": "1187b093",
   "metadata": {},
   "source": [
    "# Question8"
   ]
  },
  {
   "cell_type": "code",
   "execution_count": null,
   "id": "88008c85",
   "metadata": {},
   "outputs": [],
   "source": [
    "#a\n",
    "SELECT Temperature\n",
    "FROM table;\n",
    "\n",
    "#b\n",
    "SELECT DISTINCT City\n",
    "FROM table;\n",
    "\n",
    "#c\n",
    "SELECT *\n",
    "FROM table\n",
    "WHERE Country = 'India';\n",
    "\n",
    "#d\n",
    "SELECT *\n",
    "FROM table\n",
    "WHERE Season = 'Fall';\n",
    "\n",
    "#e\n",
    "SELECT City, Country, Season\n",
    "FROM table\n",
    "WHERE Rainfall BETWEEN 200 AND 400;\n",
    "\n",
    "#f\n",
    "SELECT City, Country\n",
    "FROM table\n",
    "WHERE Season = 'Fall' AND Temperature > 20;\n",
    "\n",
    "#g\n",
    "SELECT SUM(Rainfall) AS Total_Annual_Rainfall\n",
    "FROM table\n",
    "WHERE City = 'Cairo';\n",
    "\n",
    "#h\n",
    "SELECT Season, SUM(Rainfall) AS Total_Rainfall\n",
    "FROM table\n",
    "GROUP BY Season;\n"
   ]
  },
  {
   "cell_type": "markdown",
   "id": "bb2b86eb",
   "metadata": {},
   "source": [
    "# Question9"
   ]
  },
  {
   "cell_type": "code",
   "execution_count": null,
   "id": "064bfa47",
   "metadata": {},
   "outputs": [],
   "source": [
    "words = ['The', 'quick', 'brown', 'fox', 'jumps', 'over', 'the', 'lazy', 'dog']\n",
    "\n",
    "# a\n",
    "result_a = [word.upper() for word in words]\n",
    "\n",
    "# b\n",
    "result_b = [word.lower() for word in words]\n",
    "\n",
    "# c\n",
    "result_c = [len(word) for word in words]\n",
    "\n",
    "# d\n",
    "result_d = [[word.upper(), word.lower(), len(word)] for word in words]\n",
    "\n",
    "# e\n",
    "result_e = [word for word in words if len(word) >= 4]\n",
    "\n",
    "# print\n",
    "print(\"Result a:\", result_a)\n",
    "print(\"Result b:\", result_b)\n",
    "print(\"Result c:\", result_c)\n",
    "print(\"Result d:\", result_d)\n",
    "print(\"Result e:\", result_e)\n",
    "\n"
   ]
  },
  {
   "cell_type": "code",
   "execution_count": null,
   "id": "0ab34118",
   "metadata": {},
   "outputs": [],
   "source": []
  }
 ],
 "metadata": {
  "kernelspec": {
   "display_name": "Python 3 (ipykernel)",
   "language": "python",
   "name": "python3"
  },
  "language_info": {
   "codemirror_mode": {
    "name": "ipython",
    "version": 3
   },
   "file_extension": ".py",
   "mimetype": "text/x-python",
   "name": "python",
   "nbconvert_exporter": "python",
   "pygments_lexer": "ipython3",
   "version": "3.10.9"
  }
 },
 "nbformat": 4,
 "nbformat_minor": 5
}
